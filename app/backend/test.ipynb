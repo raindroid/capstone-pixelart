{
 "cells": [
  {
   "cell_type": "markdown",
   "metadata": {},
   "source": [
    "## Setup"
   ]
  },
  {
   "cell_type": "markdown",
   "metadata": {},
   "source": [
    "### Download required weights"
   ]
  },
  {
   "cell_type": "code",
   "execution_count": 1,
   "metadata": {},
   "outputs": [
    {
     "name": "stdout",
     "output_type": "stream",
     "text": [
      "/Users/rainwu/Documents/ece496/capstone-pixelart/app/backend\n"
     ]
    }
   ],
   "source": [
    "## Download mask rcnn \n",
    "## Download depth map \n",
    "## !wget -q http://www.cs.cornell.edu/projects/megadepth/dataset/models/best_generalization_net_G.pth \n",
    "## !mv best_generalization_net_G.pth ./pretrain/depthmap.pth\n",
    "## Download PyNet\n",
    "## !wget -q http://yucanwu.com/share/pynet_bokeh_level_0.zip\n",
    "\n",
    "!pwd"
   ]
  },
  {
   "cell_type": "markdown",
   "metadata": {},
   "source": [
    "## Load weights and build models"
   ]
  },
  {
   "cell_type": "code",
   "execution_count": 2,
   "metadata": {},
   "outputs": [
    {
     "name": "stdout",
     "output_type": "stream",
     "text": [
      "WARNING:tensorflow:From /Users/rainwu/anaconda3/lib/python3.8/site-packages/tensorflow/python/compat/v2_compat.py:111: disable_resource_variables (from tensorflow.python.ops.variable_scope) is deprecated and will be removed in a future version.\n",
      "Instructions for updating:\n",
      "non-resource variables are not supported in the long term\n",
      "===========================================LOADING Hourglass NETWORK====================================================\n",
      "model [HGModel] was created\n"
     ]
    }
   ],
   "source": [
    "from libpixelartbokeh.ObjectDetection import ObejctDetection\n",
    "from libpixelartbokeh.MegaDepthMap import MegaDepthMap\n",
    "from libpixelartbokeh.PyNet import PyNet\n",
    "\n",
    "objectDetectioModel = ObejctDetection(checkpoint_path=\"./pretrain/pretrain_maskrcnn.pt\")\n",
    "megaDepthMapModel = MegaDepthMap(checkpoint_path=\"./pretrain/depthmap.pth\")\n",
    "# pyNet = PyNet(checkpoint_path=\"./pretrain/PyNET/aws_epoch_1000\")\n",
    "# pyNet = PyNet(checkpoint_path=\"./pretrain/PyNET/best.ckpt\")\n",
    "pyNet = PyNet(checkpoint_path=\"./pretrain/PyNET/pynet_bokeh_level_0\")"
   ]
  },
  {
   "cell_type": "markdown",
   "metadata": {},
   "source": [
    "## Test Models"
   ]
  },
  {
   "cell_type": "code",
   "execution_count": 3,
   "metadata": {},
   "outputs": [
    {
     "name": "stdout",
     "output_type": "stream",
     "text": [
      "Loaded image res/samples/IMG_1139.HEIC with shape 8294400 new_shape (1440, 1920, 3)\tTime spent:   0.342s\n",
      "Gnerated mask shape (1, 1, 1440, 1920)\tTime spent:   5.377s\n",
      "Gnerated depth map shape (720, 960)\tTime spent:  24.378s\n",
      "Found best mask with confidence 0.5334861278533936 shape (1440, 1920)\n",
      "INFO:tensorflow:Restoring parameters from ./pretrain/PyNET/pynet_bokeh_level_0\n",
      "Gnerated bokeh image shape (1, 2880, 3840, 3)\tTime spent:  44.096s\n",
      "Loaded image res/samples/shawn-pang-gQkHaGzgVjc-unsplash.jpg with shape 3494880 new_shape (1440, 809, 3)\tTime spent:   0.497s\n",
      "Gnerated mask shape (3, 1, 1440, 809)\tTime spent:   5.791s\n",
      "Gnerated depth map shape (720, 400)\tTime spent:   8.283s\n",
      "Found best mask with confidence 0.9991249442100525 shape (1440, 809)\n",
      "INFO:tensorflow:Restoring parameters from ./pretrain/PyNET/pynet_bokeh_level_0\n",
      "Gnerated bokeh image shape (1, 2880, 1600, 3)\tTime spent:  17.296s\n",
      "Loaded image res/samples/IMG_3534.HEIC with shape 4665600 new_shape (1440, 1080, 3)\tTime spent:   0.263s\n",
      "Gnerated mask shape (1, 1, 1440, 1080)\tTime spent:   5.899s\n",
      "Gnerated depth map shape (720, 528)\tTime spent:  12.521s\n",
      "Found best mask with confidence 0.25102561712265015 shape (1440, 1080)\n",
      "INFO:tensorflow:Restoring parameters from ./pretrain/PyNET/pynet_bokeh_level_0\n",
      "Gnerated bokeh image shape (1, 2880, 2112, 3)\tTime spent:  21.026s\n",
      "cannot identify image file '/Users/rainwu/Documents/ece496/capstone-pixelart/app/backend/res/samples/.DS_Store'\n",
      "Time spent:   0.060s\n"
     ]
    },
    {
     "name": "stderr",
     "output_type": "stream",
     "text": [
      "Traceback (most recent call last):\n",
      "  File \"/var/folders/01/lk9_2qqx5pddt4sfwb0twcr40000gn/T/ipykernel_76225/425409903.py\", line 19, in <cell line: 14>\n",
      "    img = Image.open(sample).convert(\"RGB\")\n",
      "  File \"/Users/rainwu/anaconda3/lib/python3.8/site-packages/PIL/Image.py\", line 3008, in open\n",
      "    raise UnidentifiedImageError(\n",
      "PIL.UnidentifiedImageError: cannot identify image file '/Users/rainwu/Documents/ece496/capstone-pixelart/app/backend/res/samples/.DS_Store'\n"
     ]
    },
    {
     "name": "stdout",
     "output_type": "stream",
     "text": [
      "Gnerated mask shape (1, 1, 1440, 1080)\tTime spent:   5.086s\n",
      "Gnerated depth map shape (720, 528)\tTime spent:  11.592s\n",
      "Found best mask with confidence 0.25102561712265015 shape (1440, 1080)\n",
      "INFO:tensorflow:Restoring parameters from ./pretrain/PyNET/pynet_bokeh_level_0\n",
      "Gnerated bokeh image shape (1, 2880, 2112, 3)\tTime spent:  21.298s\n",
      "Loaded image res/samples/IMG_3533.HEIC with shape 4665600 new_shape (1440, 1080, 3)\tTime spent:   0.248s\n",
      "Gnerated mask shape (1, 1, 1440, 1080)\tTime spent:   4.697s\n",
      "Gnerated depth map shape (720, 528)\tTime spent:  11.441s\n",
      "Found best mask with confidence 0.4186532199382782 shape (1440, 1080)\n",
      "INFO:tensorflow:Restoring parameters from ./pretrain/PyNET/pynet_bokeh_level_0\n",
      "Gnerated bokeh image shape (1, 2880, 2112, 3)\tTime spent:  21.128s\n",
      "Loaded image res/samples/DSCF2279.jpeg with shape 9331200 new_shape (1440, 2160, 3)\tTime spent:   0.355s\n",
      "Gnerated mask shape (1, 1, 1440, 2160)\tTime spent:   5.308s\n",
      "Gnerated depth map shape (720, 1072)\tTime spent:  25.864s\n",
      "Found best mask with confidence 0.9989365935325623 shape (1440, 2160)\n",
      "INFO:tensorflow:Restoring parameters from ./pretrain/PyNET/pynet_bokeh_level_0\n",
      "Gnerated bokeh image shape (1, 2880, 4288, 3)\tTime spent:  38.722s\n",
      "Loaded image res/samples/IMG_3768.HEIC with shape 4665600 new_shape (1440, 1080, 3)\tTime spent:   0.362s\n",
      "Gnerated mask shape (4, 1, 1440, 1080)\tTime spent:   6.075s\n",
      "Gnerated depth map shape (720, 528)\tTime spent:  13.257s\n",
      "Found best mask with confidence 0.9969643950462341 shape (1440, 1080)\n",
      "INFO:tensorflow:Restoring parameters from ./pretrain/PyNET/pynet_bokeh_level_0\n",
      "Gnerated bokeh image shape (1, 2880, 2112, 3)\tTime spent:  21.078s\n",
      "Loaded image res/samples/edward-howell-4FIcuVlRjjk-unsplash.jpg with shape 4855680 new_shape (1440, 1124, 3)\tTime spent:   0.600s\n",
      "Gnerated mask shape (2, 1, 1440, 1124)\tTime spent:   6.074s\n",
      "Gnerated depth map shape (720, 560)\tTime spent:  12.052s\n",
      "Found best mask with confidence 0.9993835687637329 shape (1440, 1124)\n",
      "INFO:tensorflow:Restoring parameters from ./pretrain/PyNET/pynet_bokeh_level_0\n",
      "Gnerated bokeh image shape (1, 2880, 2240, 3)\tTime spent:  21.762s\n",
      "Loaded image res/samples/tyler-nix-VZEj0iepzKA-unsplash.jpg with shape 5296320 new_shape (1440, 1226, 3)\tTime spent:   0.224s\n",
      "Gnerated mask shape (7, 1, 1440, 1226)\tTime spent:   4.330s\n",
      "Gnerated depth map shape (720, 608)\tTime spent:  13.142s\n",
      "Found best mask with confidence 0.9995719790458679 shape (1440, 1226)\n",
      "INFO:tensorflow:Restoring parameters from ./pretrain/PyNET/pynet_bokeh_level_0\n",
      "Gnerated bokeh image shape (1, 2880, 2432, 3)\tTime spent:  30.178s\n",
      "Loaded image res/samples/WechatIMG2639.jpeg with shape 9357120 new_shape (1440, 2166, 3)\tTime spent:   0.122s\n",
      "Gnerated mask shape (7, 1, 1440, 2166)\tTime spent:   6.262s\n",
      "Gnerated depth map shape (704, 1072)\tTime spent:  28.907s\n",
      "Found best mask with confidence 0.9995372295379639 shape (1440, 2166)\n",
      "INFO:tensorflow:Restoring parameters from ./pretrain/PyNET/pynet_bokeh_level_0\n",
      "Gnerated bokeh image shape (1, 2880, 4288, 3)\tTime spent:  39.572s\n",
      "Loaded image res/samples/sab-qadeer-IlpMdlcSALQ-unsplash.jpg with shape 4138560 new_shape (1440, 958, 3)\tTime spent:   0.212s\n",
      "Gnerated mask shape (2, 1, 1440, 958)\tTime spent:   4.986s\n",
      "Gnerated depth map shape (720, 464)\tTime spent:   8.851s\n",
      "Found best mask with confidence 0.9975581169128418 shape (1440, 958)\n",
      "INFO:tensorflow:Restoring parameters from ./pretrain/PyNET/pynet_bokeh_level_0\n",
      "Gnerated bokeh image shape (1, 2880, 1856, 3)\tTime spent:  14.829s\n",
      "Loaded image res/samples/breakreate-tFA3kJcMUco-unsplash.jpg with shape 4432320 new_shape (1440, 1026, 3)\tTime spent:   0.367s\n",
      "Gnerated mask shape (2, 1, 1440, 1026)\tTime spent:   4.621s\n",
      "Gnerated depth map shape (720, 512)\tTime spent:  10.398s\n",
      "Found best mask with confidence 0.9894445538520813 shape (1440, 1026)\n",
      "INFO:tensorflow:Restoring parameters from ./pretrain/PyNET/pynet_bokeh_level_0\n",
      "Gnerated bokeh image shape (1, 2880, 2048, 3)\tTime spent:  16.014s\n",
      "Loaded image res/samples/alan-king-9K2vuLQZvxM-unsplash.jpg with shape 4147200 new_shape (1440, 960, 3)\tTime spent:   0.796s\n",
      "Gnerated mask shape (11, 1, 1440, 960)\tTime spent:   4.986s\n",
      "Gnerated depth map shape (720, 480)\tTime spent:   9.070s\n",
      "Found best mask with confidence 0.9976575374603271 shape (1440, 960)\n",
      "INFO:tensorflow:Restoring parameters from ./pretrain/PyNET/pynet_bokeh_level_0\n",
      "Gnerated bokeh image shape (1, 2880, 1920, 3)\tTime spent:  15.627s\n",
      "Loaded image res/samples/aryan-safabakhsh-pMpXSa43xV0-unsplash.jpg with shape 4147200 new_shape (1440, 960, 3)\tTime spent:   0.519s\n",
      "Gnerated mask shape (1, 1, 1440, 960)\tTime spent:   4.773s\n",
      "Gnerated depth map shape (720, 480)\tTime spent:   9.173s\n",
      "Found best mask with confidence 0.9980759620666504 shape (1440, 960)\n",
      "INFO:tensorflow:Restoring parameters from ./pretrain/PyNET/pynet_bokeh_level_0\n",
      "Gnerated bokeh image shape (1, 2880, 1920, 3)\tTime spent:  15.393s\n",
      "Loaded image res/samples/clem-onojeghuo-YhgXfs80RJo-unsplash.jpg with shape 3499200 new_shape (1440, 810, 3)\tTime spent:   0.485s\n",
      "Gnerated mask shape (3, 1, 1440, 810)\tTime spent:   5.194s\n",
      "Gnerated depth map shape (720, 400)\tTime spent:   7.623s\n",
      "Found best mask with confidence 0.9820183515548706 shape (1440, 810)\n",
      "INFO:tensorflow:Restoring parameters from ./pretrain/PyNET/pynet_bokeh_level_0\n",
      "Gnerated bokeh image shape (1, 2880, 1600, 3)\tTime spent:  13.160s\n",
      "Loaded image res/samples/michael-larosa-KInxvmqb6Sg-unsplash.jpg with shape 4147200 new_shape (1440, 960, 3)\tTime spent:   0.432s\n",
      "Gnerated mask shape (1, 1, 1440, 960)\tTime spent:   4.764s\n",
      "Gnerated depth map shape (720, 480)\tTime spent:   9.062s\n",
      "Found best mask with confidence 0.9994780421257019 shape (1440, 960)\n",
      "INFO:tensorflow:Restoring parameters from ./pretrain/PyNET/pynet_bokeh_level_0\n",
      "Gnerated bokeh image shape (1, 2880, 1920, 3)\tTime spent:  15.354s\n",
      "Loaded image res/samples/joelvalve-z52ut1NOTVY-unsplash.jpg with shape 4147200 new_shape (1440, 960, 3)\tTime spent:   0.474s\n",
      "Gnerated mask shape (2, 1, 1440, 960)\tTime spent:   4.780s\n",
      "Gnerated depth map shape (720, 480)\tTime spent:   9.056s\n",
      "Found best mask with confidence 0.9907835721969604 shape (1440, 960)\n",
      "INFO:tensorflow:Restoring parameters from ./pretrain/PyNET/pynet_bokeh_level_0\n",
      "Gnerated bokeh image shape (1, 2880, 1920, 3)\tTime spent:  15.524s\n",
      "Loaded image res/samples/dev-asangbam-aO0pB2AUlw0-unsplash.jpg with shape 4147200 new_shape (1440, 960, 3)\tTime spent:   0.473s\n",
      "Gnerated mask shape (3, 1, 1440, 960)\tTime spent:   4.759s\n",
      "Gnerated depth map shape (720, 480)\tTime spent:   8.968s\n",
      "Found best mask with confidence 0.9958337545394897 shape (1440, 960)\n",
      "INFO:tensorflow:Restoring parameters from ./pretrain/PyNET/pynet_bokeh_level_0\n",
      "Gnerated bokeh image shape (1, 2880, 1920, 3)\tTime spent:  15.473s\n",
      "Loaded image res/samples/IMG_3536.HEIC with shape 4665600 new_shape (1440, 1080, 3)\tTime spent:   0.232s\n",
      "Gnerated mask shape (0, 1, 1440, 1080)\tTime spent:   4.282s\n",
      "Gnerated depth map shape (720, 528)\tTime spent:  10.089s\n",
      "Found best mask with confidence -1 shape (720, 528)\n",
      "INFO:tensorflow:Restoring parameters from ./pretrain/PyNET/pynet_bokeh_level_0\n",
      "Gnerated bokeh image shape (1, 2880, 2112, 3)\tTime spent:  16.361s\n",
      "Loaded image res/samples/IMG_5616.HEIC with shape 8294400 new_shape (1440, 1920, 3)\tTime spent:   0.278s\n",
      "Gnerated mask shape (4, 1, 1440, 1920)\tTime spent:   4.394s\n",
      "Gnerated depth map shape (720, 960)\tTime spent:  19.528s\n",
      "Found best mask with confidence 0.89820396900177 shape (1440, 1920)\n",
      "INFO:tensorflow:Restoring parameters from ./pretrain/PyNET/pynet_bokeh_level_0\n",
      "Gnerated bokeh image shape (1, 2880, 3840, 3)\tTime spent:  29.938s\n"
     ]
    }
   ],
   "source": [
    "from pathlib import Path\n",
    "from PIL import Image\n",
    "import numpy as np\n",
    "import matplotlib.pyplot as plt\n",
    "import traceback\n",
    "import timeit\n",
    "\n",
    "samples_path = Path(\"./res/samples\")\n",
    "results_path = Path(\"./res/results\")\n",
    "mask_results = []\n",
    "depth_results = []\n",
    "bokeh_results = []\n",
    "\n",
    "for sample in samples_path.iterdir():\n",
    "    if sample.is_file():\n",
    "        # Load image\n",
    "        s_time = timeit.default_timer()\n",
    "        try:\n",
    "            img = Image.open(sample).convert(\"RGB\")\n",
    "            ratio = np.min((2560 / img.size[0], 1440 / img.size[1]))\n",
    "            new_shape = np.array((img.size[0] * ratio, img.size[1] * ratio)).astype(np.uint32)\n",
    "            img = img.resize(new_shape, Image.ANTIALIAS) \n",
    "            img = np.array(img)\n",
    "            print(f\"Loaded image {str(sample)} with shape {img.size} new_shape {img.shape}\", end=\"\\t\")\n",
    "        except Exception as e:\n",
    "            print(e)\n",
    "            traceback.print_exc()\n",
    "        print(f\"Time spent: {timeit.default_timer() - s_time:7.3f}s\")\n",
    "            \n",
    "        s_time = timeit.default_timer()\n",
    "        # mask generation\n",
    "        mask = None\n",
    "        try:\n",
    "            mask_results.append(objectDetectioModel.predict(img))\n",
    "            mask = mask_results[-1][0]\n",
    "            print(f\"Gnerated mask shape {mask.shape}\", end=\"\\t\")\n",
    "        except Exception as e:\n",
    "            print(e)\n",
    "            traceback.print_exc()\n",
    "        print(f\"Time spent: {timeit.default_timer() - s_time:7.3f}s\")\n",
    "        \n",
    "        s_time = timeit.default_timer()\n",
    "        # depth generation\n",
    "        depthmap = None\n",
    "        try:\n",
    "            depth_results.append(megaDepthMapModel.predict(img))\n",
    "            depthmap = depth_results[-1]\n",
    "            print(f\"Gnerated depth map shape {depthmap.shape}\", end=\"\\t\")\n",
    "        except Exception as e:\n",
    "            print(e)\n",
    "            traceback.print_exc()\n",
    "        print(f\"Time spent: {timeit.default_timer() - s_time:7.3f}s\")\n",
    "        \n",
    "        s_time = timeit.default_timer()\n",
    "        # bokeh/blur generation\n",
    "        try:\n",
    "            best_mask = depthmap\n",
    "            best_confidence = -1\n",
    "            if mask is not None:\n",
    "                for mask, confidence in zip(*mask_results[-1]):\n",
    "                    if best_confidence < confidence:\n",
    "                        best_mask = mask[0]\n",
    "                        best_confidence = confidence\n",
    "            print(f\"Found best mask with confidence {best_confidence} shape {best_mask.shape}\")\n",
    "            bokeh_results.append(pyNet.predict(img, mask=best_mask))\n",
    "            bokeh_img = bokeh_results[-1]\n",
    "            print(f\"Gnerated bokeh image shape {bokeh_img.shape}\", end=\"\\t\")\n",
    "        except Exception as e:\n",
    "            print(e)\n",
    "            traceback.print_exc()\n",
    "        print(f\"Time spent: {timeit.default_timer() - s_time:7.3f}s\")\n",
    "        \n",
    "        Image.fromarray((bokeh_img[0] * 255.).astype(np.uint8)).save(f\"./res/results/{sample.stem}_bokeh_orig.png\")\n"
   ]
  },
  {
   "cell_type": "code",
   "execution_count": 4,
   "metadata": {},
   "outputs": [
    {
     "data": {
      "text/plain": [
       "2"
      ]
     },
     "execution_count": 4,
     "metadata": {},
     "output_type": "execute_result"
    }
   ],
   "source": [
    "mask.shape[0]"
   ]
  },
  {
   "cell_type": "code",
   "execution_count": 14,
   "metadata": {},
   "outputs": [
    {
     "data": {
      "text/plain": [
       "<matplotlib.image.AxesImage at 0x7f3d9fc96c70>"
      ]
     },
     "execution_count": 14,
     "metadata": {},
     "output_type": "execute_result"
    },
    {
     "data": {
      "image/png": "[encoded data removed]",
      "text/plain": [
       "<Figure size 720x480 with 1 Axes>"
      ]
     },
     "metadata": {
      "needs_background": "light"
     },
     "output_type": "display_data"
    }
   ],
   "source": [
    "from skimage.transform import resize\n",
    "\n",
    "j = 0\n",
    "# plt.figure(dpi=120)\n",
    "# plt.imshow(img)\n",
    "plt.figure(dpi=120)\n",
    "plt.imshow(mask_results[j][0][0][0], cmap='gray')\n",
    "# plt.figure(dpi=120)\n",
    "# plt.imshow(depth_results[j], cmap='gray')\n",
    "# plt.figure(dpi=120)\n",
    "# plt.imshow((bokeh_results[j][0]))\n",
    "\n",
    "# I = np.zeros((mask[0].shape[0], mask[0].shape[1], 4))\n",
    "# I[..., :3] = resize(bokeh_img[0], (mask[0].shape[0], mask[0].shape[1]))\n",
    "# I[..., 3] = mask[0]\n",
    "# plt.figure(dpi=120)\n",
    "# plt.imshow(I)\n",
    "\n",
    "# Image.fromarray((bokeh_img[0] * 255.).astype(np.uint8)).save(f\"./res/results/{sample.stem}_bokeh_pretrain.png\")"
   ]
  },
  {
   "cell_type": "code",
   "execution_count": 14,
   "metadata": {},
   "outputs": [
    {
     "data": {
      "text/plain": [
       "((302, 813, 311, 1257), (1440, 1026))"
      ]
     },
     "execution_count": 14,
     "metadata": {},
     "output_type": "execute_result"
    }
   ],
   "source": [
    "\n",
    "a = np.where(mask > 0.45)\n",
    "bbox = int(np.min(a[1])), int(np.max(a[1])), int(np.min(a[0])), int(np.max(a[0]))\n",
    "bbox, mask.shape"
   ]
  }
 ],
 "metadata": {
  "interpreter": {
   "hash": "e157c9eeed560e95cf91d414c05dfacf322968209c5cd074c174eede9cf44db8"
  },
  "kernelspec": {
   "display_name": "Python 3.8.5 ('base')",
   "language": "python",
   "name": "python3"
  },
  "language_info": {
   "codemirror_mode": {
    "name": "ipython",
    "version": 3
   },
   "file_extension": ".py",
   "mimetype": "text/x-python",
   "name": "python",
   "nbconvert_exporter": "python",
   "pygments_lexer": "ipython3",
   "version": "3.8.13"
  },
  "orig_nbformat": 4
 },
 "nbformat": 4,
 "nbformat_minor": 2
}
