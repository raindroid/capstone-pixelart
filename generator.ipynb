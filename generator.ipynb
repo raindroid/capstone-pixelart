{
 "cells": [
  {
   "cell_type": "markdown",
   "metadata": {},
   "source": [
    "# Generator Scripts"
   ]
  },
  {
   "cell_type": "markdown",
   "metadata": {},
   "source": [
    "## Check Environments\n",
    "Please use GPU for faster render"
   ]
  },
  {
   "cell_type": "code",
   "execution_count": null,
   "metadata": {},
   "outputs": [
    {
     "ename": "",
     "evalue": "",
     "output_type": "error",
     "traceback": [
      "\u001b[1;31mFailed to start the Kernel. \n",
      "Failed to start the Kernel 'base (Python 3.9.7)'. \n",
      "View Jupyter <a href='command:jupyter.viewOutput'>log</a> for further details. Cannot read property 'makeSettings' of undefined"
     ]
    }
   ],
   "source": [
    "gpu = !nvidia-smi --query-gpu=gpu_name --format=csv,noheader\n",
    "print(\"Current GPU: \" + gpu[0])"
   ]
  },
  {
   "cell_type": "markdown",
   "metadata": {},
   "source": [
    "## Download necessary files\n",
    "1. Install Blender 3.1.0 (https://mirror.clarkson.edu/blender/release/Blender3.1/blender-3.1.0-linux-x64.tar.xz)\n",
    "2. Adjusted model set: https://drive.google.com/drive/folders/1_qEE64DBXlNtzqCY8S8DWkRGH6z9HZ44?usp=sharing\n",
    "3. Code base: https://github.com/raindroid/capstone-pixelart.git "
   ]
  },
  {
   "cell_type": "code",
   "execution_count": null,
   "metadata": {},
   "outputs": [
    {
     "ename": "",
     "evalue": "",
     "output_type": "error",
     "traceback": [
      "\u001b[1;31mFailed to start the Kernel. \n",
      "Failed to start the Kernel 'base (Python 3.9.7)'. \n",
      "View Jupyter <a href='command:jupyter.viewOutput'>log</a> for further details. Cannot read property 'makeSettings' of undefined"
     ]
    }
   ],
   "source": [
    "BLENDER=\"blender-3.1.0-linux-x64\"\n",
    "!wget https://mirror.clarkson.edu/blender/release/Blender3.1/$BLENDER.tar.xz\n",
    "!tar -xf $BLENDER.tar.xz\n",
    "!mv $BLENDER blender\n",
    "!./blender/blender --version"
   ]
  },
  {
   "cell_type": "code",
   "execution_count": null,
   "metadata": {},
   "outputs": [],
   "source": [
    "!git clone https://github.com/raindroid/capstone-pixelart.git\n",
    "!wget yucanwu.com/share/adjusted-20220324T164219Z-001.zip\n",
    "!wget yucanwu.com/share/adjusted-20220324T164219Z-002.zip\n",
    "!rm -rf adjusted\n",
    "!unzip -qq adjusted-20220324T164219Z-001.zip\n",
    "!unzip -qq adjusted-20220324T164219Z-002.zip\n",
    "!rm -rf capstone-pixelart/models/objects\n",
    "!rm -rf capstone-pixelart/models/scenes\n",
    "!mv adjusted/* capstone-pixelart/models/\n",
    "!pip install -r capstone-pixelart/scripts/requirements.txt"
   ]
  },
  {
   "cell_type": "markdown",
   "metadata": {},
   "source": [
    "## Set up local config"
   ]
  },
  {
   "cell_type": "code",
   "execution_count": 29,
   "metadata": {},
   "outputs": [],
   "source": [
    "!sed 's/M:\\\\\\\\ECE496\\\\\\\\PixelArt\\\\\\\\/\\/root\\/capstone-pixelart/g' capstone-pixelart/scripts/localConfig.py.template > capstone-pixelart/scripts/localConfig.py.temp1\n",
    "!sed 's/C:\\\\\\\\Program Files\\\\\\\\Blender Foundation\\\\\\\\Blender 2.93/\\/root\\/blender\\//g' capstone-pixelart/scripts/localConfig.py.temp1 > capstone-pixelart/scripts/localConfig.py"
   ]
  },
  {
   "cell_type": "markdown",
   "metadata": {},
   "source": [
    "## Test Run"
   ]
  },
  {
   "cell_type": "code",
   "execution_count": null,
   "metadata": {},
   "outputs": [
    {
     "name": "stdout",
     "output_type": "stream",
     "text": [
      "Running PixelArt from path /root/capstone-pixelart, with blender /root/blender/ .\n",
      "PROGRESS: Started executing pixel art\n",
      "INFO: debug_mode: False\n",
      "INFO: Created working directory at /root/capstone-pixelart/work\n",
      "INFO: Created output directory at /root/capstone-pixelart/generated\n",
      "INFO: Rendering will try to use GPU\n",
      "INFO: Configuration count: 4\n",
      "INFO: Object count (range): [2, 4]\n",
      "INFO: Images range: [4, 8]\n",
      "  0% (0 of 4) |                          | Elapsed Time: 0:00:00 ETA:  --:--:--"
     ]
    }
   ],
   "source": [
    "!python capstone-pixelart/scripts/main.py -d"
   ]
  }
 ],
 "metadata": {
  "instance_type": "ml.g4dn.xlarge",
  "interpreter": {
   "hash": "f0390cd7755e19670a0a6a4abafeea64756b09d6d410a38da0471d27e5ec151b"
  },
  "kernelspec": {
   "display_name": "Python 3 (PyTorch 1.8 Python 3.6 GPU Optimized)",
   "language": "python",
   "name": "python3"
  },
  "language_info": {
   "codemirror_mode": {
    "name": "ipython",
    "version": 3
   },
   "file_extension": ".py",
   "mimetype": "text/x-python",
   "name": "python",
   "nbconvert_exporter": "python",
   "pygments_lexer": "ipython3",
   "version": "3.9.7"
  }
 },
 "nbformat": 4,
 "nbformat_minor": 4
}
